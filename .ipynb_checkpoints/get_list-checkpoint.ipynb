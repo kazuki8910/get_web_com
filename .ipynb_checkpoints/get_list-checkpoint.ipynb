{
 "cells": [
  {
   "cell_type": "code",
   "execution_count": 1,
   "id": "816fe70a-d51e-480c-b439-9275eead05f2",
   "metadata": {},
   "outputs": [],
   "source": [
    "# 会社一覧を取得する"
   ]
  },
  {
   "cell_type": "code",
   "execution_count": 2,
   "id": "51d42964-9c9b-45f7-b812-9093657cbb75",
   "metadata": {},
   "outputs": [],
   "source": [
    "# GoogleAPI関連\n",
    "import gspread\n",
    "from pydrive.auth import GoogleAuth\n",
    "from pydrive.drive import GoogleDrive\n",
    "from oauth2client.service_account import ServiceAccountCredentials\n",
    "\n",
    "# セレニウム関連\n",
    "from selenium import webdriver\n",
    "from selenium.webdriver.common.action_chains import ActionChains\n",
    "import chromedriver_binary\n",
    "\n",
    "# 一般\n",
    "from time import sleep"
   ]
  },
  {
   "cell_type": "code",
   "execution_count": 3,
   "id": "3ac696b5-4bf0-47ca-ad5c-2c39d8891891",
   "metadata": {},
   "outputs": [],
   "source": [
    "# 変数\n",
    "\n",
    "# 一覧を取得するURL\n",
    "target_url = \"https://web-kanji.com/search/tokyo/human-resources/\"\n",
    "\n",
    "# 保存するスプシのキー\n",
    "sheet_key = \"1RQ7OB-j7HiI9xgVnUh66tIqUNgMcBzQEbU5wYYeWB7A\"\n",
    "\n",
    "# 格納するシート名\n",
    "sheet_name = \"リスト\""
   ]
  },
  {
   "cell_type": "code",
   "execution_count": 4,
   "id": "8a331494-ff41-476d-ba4d-338ec82b1440",
   "metadata": {},
   "outputs": [],
   "source": [
    "# 関数\n",
    "\n",
    "# スプシにアクセス\n",
    "def access_sheet(key):\n",
    "    google_api_filepath = 'config/google_api.json'\n",
    "    google_api_scope = ['https://spreadsheets.google.com/feeds',\n",
    "                        'https://www.googleapis.com/auth/drive']\n",
    "    credentials = ServiceAccountCredentials.from_json_keyfile_name(google_api_filepath, google_api_scope)\n",
    "    gc = gspread.authorize(credentials)\n",
    "    workbook = gc.open_by_key(key)\n",
    "    return workbook"
   ]
  },
  {
   "cell_type": "code",
   "execution_count": null,
   "id": "9cc22347-ad21-4dcb-98c4-eb2aa276bdc0",
   "metadata": {},
   "outputs": [],
   "source": [
    "# 該当のページにアクセス\n",
    "driver = webdriver.Chrome()\n",
    "driver.get(target_url)\n",
    "sleep(3)"
   ]
  },
  {
   "cell_type": "code",
   "execution_count": null,
   "id": "adc0d7bd-747f-4cc8-86e5-01a314d9a05f",
   "metadata": {},
   "outputs": [],
   "source": [
    "# 会社の一覧を取得\n",
    "com_elms = driver.find_elements(\"class name\",\"companies-item\")\n",
    "com_list = []\n",
    "for i in range(1,10):\n",
    "    for com_elm in com_elms:\n",
    "        com_name = com_elm.find_element(\"class name\",\"companies-item-name\").text # 会社名\n",
    "        com_detail = com_elm.get_attribute(\"href\") # 詳細URL\n",
    "        com_list.append([com_name, com_detail])\n",
    "    driver.get(target_url+\"page/\"+str(i))\n",
    "    sleep(3)\n",
    "driver.quit()"
   ]
  },
  {
   "cell_type": "code",
   "execution_count": null,
   "id": "ccab9482-370e-492e-902c-3dc0673b9975",
   "metadata": {},
   "outputs": [],
   "source": [
    "# スプシに保存\n",
    "wb = access_sheet(sheet_key)\n",
    "ws = wb.worksheet(sheet_name)\n",
    "rows_num = len(ws.get_all_values())\n",
    "list_size = len(com_list)\n",
    "cell_list = ws.range(rows_num+1,1,list_size+rows_num,2)\n",
    "for ind,cell in enumerate(cell_list):\n",
    "    cell.value = com_list[int(ind/2)][ind%2]\n",
    "ws.update_cells(cell_list)"
   ]
  },
  {
   "cell_type": "code",
   "execution_count": null,
   "id": "de4c71e4-4771-4fb9-9c3f-bd9d795a8990",
   "metadata": {},
   "outputs": [],
   "source": []
  }
 ],
 "metadata": {
  "kernelspec": {
   "display_name": "Python 3 (ipykernel)",
   "language": "python",
   "name": "python3"
  },
  "language_info": {
   "codemirror_mode": {
    "name": "ipython",
    "version": 3
   },
   "file_extension": ".py",
   "mimetype": "text/x-python",
   "name": "python",
   "nbconvert_exporter": "python",
   "pygments_lexer": "ipython3",
   "version": "3.9.7"
  }
 },
 "nbformat": 4,
 "nbformat_minor": 5
}
